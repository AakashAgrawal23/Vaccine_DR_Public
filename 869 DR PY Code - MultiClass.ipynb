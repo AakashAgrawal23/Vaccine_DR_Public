{
 "cells": [
  {
   "cell_type": "code",
   "execution_count": 1,
   "id": "4f47da35",
   "metadata": {},
   "outputs": [
    {
     "data": {
      "text/plain": [
       "<datarobot.rest.RESTClientObject at 0x7f9da85ee160>"
      ]
     },
     "execution_count": 1,
     "metadata": {},
     "output_type": "execute_result"
    }
   ],
   "source": [
    "import datarobot as dr\n",
    "dr.Client(token='NjM1MGQyYWFjZTUxMmYyMDZjMDg3YzFjOmZ5dldzeExNVzBUUFJyanl4NkVvRk9nK0R3RHVMTzFQY2FGU0JwSFFpQkE9', endpoint='https://app2.datarobot.com/api/v2/')"
   ]
  },
  {
   "cell_type": "markdown",
   "id": "ea3835d5",
   "metadata": {},
   "source": [
    "# MultiClass\n",
    "\n",
    "0,0 - 0 <br>\n",
    "0,1 - 1 <br>\n",
    "1,0 - 2 <br>\n",
    "1,1 - 3"
   ]
  },
  {
   "cell_type": "code",
   "execution_count": 8,
   "id": "ba03f1b8",
   "metadata": {},
   "outputs": [],
   "source": [
    "h1n1_training_dataset_file_path = '/Users/aakashagrawal/Desktop/MMA/869/Final Project/Data/all_data.xlsx'\n",
    "\n",
    "# Load dataset\n",
    "training_dataset = dr.Dataset.create_from_file(h1n1_training_dataset_file_path)\n",
    "\n",
    "# Create a new project based on dataset\n",
    "project = dr.Project.create_from_dataset(training_dataset.id, project_name='869 MC - v101')"
   ]
  },
  {
   "cell_type": "code",
   "execution_count": 9,
   "id": "fbbff0cb",
   "metadata": {},
   "outputs": [],
   "source": [
    "from datarobot import AUTOPILOT_MODE"
   ]
  },
  {
   "cell_type": "code",
   "execution_count": 10,
   "id": "263700a4",
   "metadata": {},
   "outputs": [
    {
     "data": {
      "text/plain": [
       "Project(869 MC - v101)"
      ]
     },
     "execution_count": 10,
     "metadata": {},
     "output_type": "execute_result"
    }
   ],
   "source": [
    "# Use training data to build models\n",
    "# Set the project's target and initiate Autopilot (runs in Quick mode unless a different mode is specified)\n",
    "project.analyze_and_model(target='target', worker_count=20)\n",
    "\n",
    "# Open the project's Leaderboard to monitor the progress in UI.\n",
    "# project.open_in_browser()\n",
    "\n",
    "# model = project.get_top_model()"
   ]
  },
  {
   "cell_type": "code",
   "execution_count": 11,
   "id": "9550229f",
   "metadata": {},
   "outputs": [],
   "source": [
    "model = project.get_top_model()"
   ]
  },
  {
   "cell_type": "code",
   "execution_count": 12,
   "id": "9ae2f1cc",
   "metadata": {},
   "outputs": [
    {
     "data": {
      "text/plain": [
       "Model('eXtreme Gradient Boosted Trees Classifier with Early Stopping')"
      ]
     },
     "execution_count": 12,
     "metadata": {},
     "output_type": "execute_result"
    }
   ],
   "source": [
    "model"
   ]
  },
  {
   "cell_type": "code",
   "execution_count": 15,
   "id": "b4c2278c",
   "metadata": {},
   "outputs": [],
   "source": [
    "#model.get_roc_curve('validation')"
   ]
  },
  {
   "cell_type": "code",
   "execution_count": 16,
   "id": "25071da6",
   "metadata": {},
   "outputs": [
    {
     "data": {
      "text/plain": [
       "[Model('eXtreme Gradient Boosted Trees Classifier with Early Stopping'),\n",
       " Model('AVG Blender'),\n",
       " Model('eXtreme Gradient Boosted Trees Classifier with Early Stopping'),\n",
       " Model('eXtreme Gradient Boosted Trees Classifier with Early Stopping'),\n",
       " Model('eXtreme Gradient Boosted Trees Classifier with Early Stopping'),\n",
       " Model('Light Gradient Boosted Trees Classifier with Early Stopping (SoftMax Loss) (16 leaves)'),\n",
       " Model('eXtreme Gradient Boosted Trees Classifier with Early Stopping'),\n",
       " Model('Keras Slim Residual Neural Network Classifier using Training Schedule (1 Layer: 64 Units)'),\n",
       " Model('Light Gradient Boosted Trees Classifier with Early Stopping (SoftMax Loss) (16 leaves)'),\n",
       " Model('Keras Slim Residual Neural Network Classifier using Training Schedule (1 Layer: 64 Units)'),\n",
       " Model('Regularized Logistic Regression (L2)'),\n",
       " Model('eXtreme Gradient Boosted Trees Classifier with Early Stopping'),\n",
       " Model('Regularized Logistic Regression (L2)'),\n",
       " Model('RandomForest Classifier (Gini)'),\n",
       " Model('ExtraTrees Classifier (Gini)')]"
      ]
     },
     "execution_count": 16,
     "metadata": {},
     "output_type": "execute_result"
    }
   ],
   "source": [
    "models = project.get_models(with_metric='AUC')\n",
    "models"
   ]
  },
  {
   "cell_type": "code",
   "execution_count": 17,
   "id": "3625b529",
   "metadata": {},
   "outputs": [],
   "source": [
    "import pandas as pd\n",
    "import matplotlib.pyplot as plt\n",
    "import matplotlib.ticker as mtick"
   ]
  },
  {
   "cell_type": "code",
   "execution_count": 18,
   "id": "1d4fccf5",
   "metadata": {},
   "outputs": [],
   "source": [
    "def matplotlib_pair_histogram(labels, counts, target_avgs, bin_count, ax1, feature):\n",
    "    # Rotate categorical labels\n",
    "    if feature.feature_type in [\"Categorical\", \"Text\"]:\n",
    "        ax1.tick_params(axis=\"x\", rotation=45)\n",
    "    ax1.set_ylabel(feature.name, color=dr_blue)\n",
    "    ax1.bar(labels, counts, color=dr_blue)\n",
    "    # Instantiate a second axis that shares the same x-axis\n",
    "    ax2 = ax1.twinx()\n",
    "    ax2.set_ylabel(target_feature_name, color=dr_orange)\n",
    "    ax2.plot(labels, target_avgs, marker=\"o\", lw=1, color=dr_orange)\n",
    "    ax1.set_facecolor(dr_dark_blue)\n",
    "    title = \"Histogram for {} ({} bins)\".format(feature.name, bin_count)\n",
    "    ax1.set_title(title)"
   ]
  },
  {
   "cell_type": "code",
   "execution_count": 19,
   "id": "65edddc5",
   "metadata": {},
   "outputs": [],
   "source": [
    "def draw_feature_histogram(feature_name, bin_count, project, target_feature_name):\n",
    "    feature = dr.Feature.get(project.id, feature_name)\n",
    "    # Retrieve downsampled histogram data from server\n",
    "    # based on desired bin count\n",
    "    data = feature.get_histogram(bin_count).plot\n",
    "    labels = [row[\"label\"] for row in data]\n",
    "    counts = [row[\"count\"] for row in data]\n",
    "    target_averages = [row[\"target\"] for row in data]\n",
    "    f, axarr = plt.subplots()\n",
    "    f.set_size_inches((10, 4))\n",
    "    matplotlib_pair_histogram(labels, counts, target_averages, bin_count, axarr, feature)"
   ]
  },
  {
   "cell_type": "code",
   "execution_count": 20,
   "id": "aa799167",
   "metadata": {},
   "outputs": [],
   "source": [
    "def plot_dr_roc_curve(project, model, source=\"holdout\"):\n",
    "    if source == \"holdout\":\n",
    "        project.unlock_holdout()\n",
    "    roc = model.get_roc_curve(source)\n",
    "    df = pd.DataFrame(roc.roc_points)\n",
    "\n",
    "    dr_dark_blue = \"#08233F\"\n",
    "    dr_roc_green = \"#03c75f\"\n",
    "    white = \"#ffffff\"\n",
    "    dr_purple = \"#65147D\"\n",
    "    dr_dense_green = \"#018f4f\"\n",
    "    dr_blue = \"#1F77B4\"\n",
    "    dr_orange = \"#FF7F0E\"\n",
    "    dr_red = \"#BE3C28\"\n",
    "\n",
    "    fig = plt.figure(figsize=(8, 8))\n",
    "    axes = fig.add_subplot(1, 1, 1, facecolor=dr_dark_blue)\n",
    "\n",
    "    plt.scatter(df.false_positive_rate, df.true_positive_rate, color=dr_roc_green)\n",
    "    plt.plot(df.false_positive_rate, df.true_positive_rate, color=dr_roc_green)\n",
    "    plt.plot([0, 1], [0, 1], color=white, alpha=0.25)\n",
    "    plt.title(\"ROC curve\")\n",
    "    plt.xlabel(\"False Positive Rate (Fallout)\")\n",
    "    plt.xlim([0, 1])\n",
    "    plt.ylabel(\"True Positive Rate (Sensitivity)\")\n",
    "    plt.ylim([0, 1])"
   ]
  },
  {
   "cell_type": "code",
   "execution_count": 21,
   "id": "2614b9b9",
   "metadata": {},
   "outputs": [],
   "source": [
    "def get_dr_confusion_matrix(project, model, source=\"holdout\", threshold=None):\n",
    "    if source == \"holdout\":\n",
    "        project.unlock_holdout()\n",
    "\n",
    "    roc = model.get_roc_curve(source)\n",
    "    if threshold is None:\n",
    "        threshold = roc.get_best_f1_threshold()\n",
    "    metrics = roc.estimate_threshold(threshold)\n",
    "    roc_df = pd.DataFrame(\n",
    "        {\n",
    "            \"Predicted Negative\": [\n",
    "                metrics[\"true_negative_score\"],\n",
    "                metrics[\"false_negative_score\"],\n",
    "                metrics[\"true_negative_score\"] + metrics[\"false_negative_score\"],\n",
    "            ],\n",
    "            \"Predicted Positive\": [\n",
    "                metrics[\"false_positive_score\"],\n",
    "                metrics[\"true_positive_score\"],\n",
    "                metrics[\"true_positive_score\"] + metrics[\"false_positive_score\"],\n",
    "            ],\n",
    "            \"Total\": [\n",
    "                len(roc.negative_class_predictions),\n",
    "                len(roc.positive_class_predictions),\n",
    "                len(roc.negative_class_predictions) + len(roc.positive_class_predictions),\n",
    "            ],\n",
    "        }\n",
    "    )\n",
    "    roc_df.index = pd.MultiIndex.from_tuples([(\"Actual\", \"-\"), (\"Actual\", \"+\"), (\"Total\", \"\")])\n",
    "    roc_df.columns = pd.MultiIndex.from_tuples(\n",
    "        [(\"Predicted\", \"-\"), (\"Predicted\", \"+\"), (\"Total\", \"\")]\n",
    "    )\n",
    "    roc_df.style.set_properties(**{\"text-align\": \"right\"})\n",
    "    return roc_df"
   ]
  },
  {
   "cell_type": "code",
   "execution_count": 22,
   "id": "12a72cfa",
   "metadata": {},
   "outputs": [],
   "source": [
    "def plot_feature_impact(model):\n",
    "    feature_impacts = model.get_or_request_feature_impact()\n",
    "\n",
    "    dr_dark_blue = \"#08233F\"\n",
    "    dr_roc_green = \"#03c75f\"\n",
    "    white = \"#ffffff\"\n",
    "    dr_purple = \"#65147D\"\n",
    "    dr_dense_green = \"#018f4f\"\n",
    "    dr_blue = \"#1F77B4\"\n",
    "    dr_orange = \"#FF7F0E\"\n",
    "    dr_red = \"#BE3C28\"\n",
    "\n",
    "    # Formats the ticks from a float into a percent\n",
    "    percent_tick_fmt = mtick.PercentFormatter(xmax=1.0)\n",
    "\n",
    "    impact_df = pd.DataFrame(feature_impacts)[:10]\n",
    "    impact_df.sort_values(by=\"impactNormalized\", ascending=True, inplace=True)\n",
    "\n",
    "    # Positive values are blue, negative are red\n",
    "    bar_colors = impact_df.impactNormalized.apply(lambda x: dr_red if x < 0 else dr_blue)\n",
    "\n",
    "    ax = impact_df.plot.barh(\n",
    "        x=\"featureName\", y=\"impactNormalized\", legend=False, color=bar_colors, figsize=(10, 14)\n",
    "    )\n",
    "    ax.xaxis.set_major_formatter(percent_tick_fmt)\n",
    "    ax.xaxis.set_tick_params(labeltop=True)\n",
    "    ax.xaxis.grid(True, alpha=0.2)\n",
    "    ax.set_facecolor(dr_dark_blue)\n",
    "\n",
    "    plt.ylabel(\"\")\n",
    "    plt.xlabel(\"Effect\")\n",
    "    plt.xlim((None, 1))  # Allow for negative impact\n",
    "    plt.title(\"Feature Impact\", y=1.04)\n"
   ]
  },
  {
   "cell_type": "code",
   "execution_count": 23,
   "id": "98e987f8",
   "metadata": {},
   "outputs": [],
   "source": [
    "# Picking the best non-blender model based on AUC\n",
    "best_model = project.get_top_model('AUC')\n",
    "best_model_auc = max([m.metrics['AUC']['crossValidation'] for m in models \n",
    "                      if m.is_frozen is False \n",
    "                      and m.model_category != 'blend' \n",
    "                      and m.metrics['AUC']['crossValidation'] is not None])\n",
    "best_model = [m for m in models if m.metrics['AUC']['crossValidation'] == best_model_auc][0]"
   ]
  },
  {
   "cell_type": "code",
   "execution_count": 24,
   "id": "8cab744a",
   "metadata": {},
   "outputs": [
    {
     "data": {
      "text/plain": [
       "Model('eXtreme Gradient Boosted Trees Classifier with Early Stopping')"
      ]
     },
     "execution_count": 24,
     "metadata": {},
     "output_type": "execute_result"
    }
   ],
   "source": [
    "best_model"
   ]
  },
  {
   "cell_type": "code",
   "execution_count": 44,
   "id": "e065ef40",
   "metadata": {},
   "outputs": [],
   "source": [
    "#plot_dr_roc_curve(project, model=best_model, source='holdout')"
   ]
  },
  {
   "cell_type": "code",
   "execution_count": 28,
   "id": "455ecd24",
   "metadata": {},
   "outputs": [],
   "source": [
    "#roc_df = get_dr_confusion_matrix(project=project, model=best_model, source='holdout')\n",
    "#roc_df"
   ]
  },
  {
   "cell_type": "code",
   "execution_count": 29,
   "id": "270e08ed",
   "metadata": {},
   "outputs": [
    {
     "data": {
      "image/png": "[encoded data removed]",
      "text/plain": [
       "<Figure size 720x1008 with 1 Axes>"
      ]
     },
     "metadata": {
      "needs_background": "light"
     },
     "output_type": "display_data"
    }
   ],
   "source": [
    "plot_feature_impact(model=best_model)"
   ]
  },
  {
   "cell_type": "code",
   "execution_count": 30,
   "id": "aa47f8a3",
   "metadata": {},
   "outputs": [
    {
     "data": {
      "text/plain": [
       "Model('eXtreme Gradient Boosted Trees Classifier with Early Stopping')"
      ]
     },
     "execution_count": 30,
     "metadata": {},
     "output_type": "execute_result"
    }
   ],
   "source": [
    "best_model"
   ]
  },
  {
   "cell_type": "code",
   "execution_count": 31,
   "id": "d5eb00de",
   "metadata": {},
   "outputs": [],
   "source": [
    "test_dataset_file_path = '/Users/aakashagrawal/Desktop/MMA/869/Final Project/Data/test_set_features.csv'"
   ]
  },
  {
   "cell_type": "code",
   "execution_count": 32,
   "id": "f09896f5",
   "metadata": {},
   "outputs": [
    {
     "data": {
      "text/plain": [
       "Model('eXtreme Gradient Boosted Trees Classifier with Early Stopping')"
      ]
     },
     "execution_count": 32,
     "metadata": {},
     "output_type": "execute_result"
    }
   ],
   "source": [
    "model"
   ]
  },
  {
   "cell_type": "code",
   "execution_count": 33,
   "id": "dfdcad1f",
   "metadata": {},
   "outputs": [],
   "source": [
    "dataset_from_path = project.upload_dataset('/Users/aakashagrawal/Desktop/MMA/869/Final Project/Data/test_set_features.csv')"
   ]
  },
  {
   "cell_type": "code",
   "execution_count": 34,
   "id": "afee44e2",
   "metadata": {},
   "outputs": [
    {
     "data": {
      "text/html": [
       "<div>\n",
       "<style scoped>\n",
       "    .dataframe tbody tr th:only-of-type {\n",
       "        vertical-align: middle;\n",
       "    }\n",
       "\n",
       "    .dataframe tbody tr th {\n",
       "        vertical-align: top;\n",
       "    }\n",
       "\n",
       "    .dataframe thead th {\n",
       "        text-align: right;\n",
       "    }\n",
       "</style>\n",
       "<table border=\"1\" class=\"dataframe\">\n",
       "  <thead>\n",
       "    <tr style=\"text-align: right;\">\n",
       "      <th></th>\n",
       "      <th>row_id</th>\n",
       "      <th>prediction</th>\n",
       "      <th>class_0,0</th>\n",
       "      <th>class_0,1</th>\n",
       "      <th>class_1,0</th>\n",
       "      <th>class_1,1</th>\n",
       "    </tr>\n",
       "  </thead>\n",
       "  <tbody>\n",
       "    <tr>\n",
       "      <th>0</th>\n",
       "      <td>0</td>\n",
       "      <td>0,0</td>\n",
       "      <td>0.771536</td>\n",
       "      <td>0.124503</td>\n",
       "      <td>0.049981</td>\n",
       "      <td>0.053980</td>\n",
       "    </tr>\n",
       "    <tr>\n",
       "      <th>1</th>\n",
       "      <td>1</td>\n",
       "      <td>0,0</td>\n",
       "      <td>0.949838</td>\n",
       "      <td>0.010868</td>\n",
       "      <td>0.034959</td>\n",
       "      <td>0.004335</td>\n",
       "    </tr>\n",
       "    <tr>\n",
       "      <th>2</th>\n",
       "      <td>2</td>\n",
       "      <td>0,1</td>\n",
       "      <td>0.271868</td>\n",
       "      <td>0.530930</td>\n",
       "      <td>0.010734</td>\n",
       "      <td>0.186469</td>\n",
       "    </tr>\n",
       "    <tr>\n",
       "      <th>3</th>\n",
       "      <td>3</td>\n",
       "      <td>1,1</td>\n",
       "      <td>0.102904</td>\n",
       "      <td>0.172296</td>\n",
       "      <td>0.015209</td>\n",
       "      <td>0.709591</td>\n",
       "    </tr>\n",
       "    <tr>\n",
       "      <th>4</th>\n",
       "      <td>4</td>\n",
       "      <td>0,0</td>\n",
       "      <td>0.464877</td>\n",
       "      <td>0.265969</td>\n",
       "      <td>0.098246</td>\n",
       "      <td>0.170908</td>\n",
       "    </tr>\n",
       "  </tbody>\n",
       "</table>\n",
       "</div>"
      ],
      "text/plain": [
       "   row_id prediction  class_0,0  class_0,1  class_1,0  class_1,1\n",
       "0       0        0,0   0.771536   0.124503   0.049981   0.053980\n",
       "1       1        0,0   0.949838   0.010868   0.034959   0.004335\n",
       "2       2        0,1   0.271868   0.530930   0.010734   0.186469\n",
       "3       3        1,1   0.102904   0.172296   0.015209   0.709591\n",
       "4       4        0,0   0.464877   0.265969   0.098246   0.170908"
      ]
     },
     "execution_count": 34,
     "metadata": {},
     "output_type": "execute_result"
    }
   ],
   "source": [
    "# Test predictions on new data\n",
    "predict_job = model.request_predictions(dataset_from_path.id)\n",
    "predictions = predict_job.get_result_when_complete()\n",
    "predictions.head()"
   ]
  },
  {
   "cell_type": "code",
   "execution_count": 35,
   "id": "a70f2e59",
   "metadata": {},
   "outputs": [],
   "source": [
    "preds = pd.DataFrame()"
   ]
  },
  {
   "cell_type": "code",
   "execution_count": 36,
   "id": "47e4143f",
   "metadata": {},
   "outputs": [],
   "source": [
    "preds['h1n1_vaccine']=predictions['class_1,0']+predictions['class_1,1']\n",
    "preds['seasonal_vaccine'] = predictions['class_0,1']+predictions['class_1,1']"
   ]
  },
  {
   "cell_type": "code",
   "execution_count": 37,
   "id": "2e70f3ae",
   "metadata": {},
   "outputs": [
    {
     "data": {
      "text/html": [
       "<div>\n",
       "<style scoped>\n",
       "    .dataframe tbody tr th:only-of-type {\n",
       "        vertical-align: middle;\n",
       "    }\n",
       "\n",
       "    .dataframe tbody tr th {\n",
       "        vertical-align: top;\n",
       "    }\n",
       "\n",
       "    .dataframe thead th {\n",
       "        text-align: right;\n",
       "    }\n",
       "</style>\n",
       "<table border=\"1\" class=\"dataframe\">\n",
       "  <thead>\n",
       "    <tr style=\"text-align: right;\">\n",
       "      <th></th>\n",
       "      <th>h1n1_vaccine</th>\n",
       "      <th>seasonal_vaccine</th>\n",
       "    </tr>\n",
       "  </thead>\n",
       "  <tbody>\n",
       "    <tr>\n",
       "      <th>0</th>\n",
       "      <td>0.103961</td>\n",
       "      <td>0.178483</td>\n",
       "    </tr>\n",
       "    <tr>\n",
       "      <th>1</th>\n",
       "      <td>0.039293</td>\n",
       "      <td>0.015203</td>\n",
       "    </tr>\n",
       "    <tr>\n",
       "      <th>2</th>\n",
       "      <td>0.197202</td>\n",
       "      <td>0.717399</td>\n",
       "    </tr>\n",
       "    <tr>\n",
       "      <th>3</th>\n",
       "      <td>0.724800</td>\n",
       "      <td>0.881887</td>\n",
       "    </tr>\n",
       "    <tr>\n",
       "      <th>4</th>\n",
       "      <td>0.269154</td>\n",
       "      <td>0.436877</td>\n",
       "    </tr>\n",
       "  </tbody>\n",
       "</table>\n",
       "</div>"
      ],
      "text/plain": [
       "   h1n1_vaccine  seasonal_vaccine\n",
       "0      0.103961          0.178483\n",
       "1      0.039293          0.015203\n",
       "2      0.197202          0.717399\n",
       "3      0.724800          0.881887\n",
       "4      0.269154          0.436877"
      ]
     },
     "execution_count": 37,
     "metadata": {},
     "output_type": "execute_result"
    }
   ],
   "source": [
    "preds.head()"
   ]
  },
  {
   "cell_type": "code",
   "execution_count": 38,
   "id": "ad05ebba",
   "metadata": {},
   "outputs": [
    {
     "data": {
      "text/html": [
       "<div>\n",
       "<style scoped>\n",
       "    .dataframe tbody tr th:only-of-type {\n",
       "        vertical-align: middle;\n",
       "    }\n",
       "\n",
       "    .dataframe tbody tr th {\n",
       "        vertical-align: top;\n",
       "    }\n",
       "\n",
       "    .dataframe thead th {\n",
       "        text-align: right;\n",
       "    }\n",
       "</style>\n",
       "<table border=\"1\" class=\"dataframe\">\n",
       "  <thead>\n",
       "    <tr style=\"text-align: right;\">\n",
       "      <th></th>\n",
       "      <th>h1n1_vaccine</th>\n",
       "      <th>seasonal_vaccine</th>\n",
       "      <th>respondent_id</th>\n",
       "    </tr>\n",
       "  </thead>\n",
       "  <tbody>\n",
       "    <tr>\n",
       "      <th>0</th>\n",
       "      <td>0.103961</td>\n",
       "      <td>0.178483</td>\n",
       "      <td>0</td>\n",
       "    </tr>\n",
       "    <tr>\n",
       "      <th>1</th>\n",
       "      <td>0.039293</td>\n",
       "      <td>0.015203</td>\n",
       "      <td>1</td>\n",
       "    </tr>\n",
       "    <tr>\n",
       "      <th>2</th>\n",
       "      <td>0.197202</td>\n",
       "      <td>0.717399</td>\n",
       "      <td>2</td>\n",
       "    </tr>\n",
       "    <tr>\n",
       "      <th>3</th>\n",
       "      <td>0.724800</td>\n",
       "      <td>0.881887</td>\n",
       "      <td>3</td>\n",
       "    </tr>\n",
       "    <tr>\n",
       "      <th>4</th>\n",
       "      <td>0.269154</td>\n",
       "      <td>0.436877</td>\n",
       "      <td>4</td>\n",
       "    </tr>\n",
       "  </tbody>\n",
       "</table>\n",
       "</div>"
      ],
      "text/plain": [
       "   h1n1_vaccine  seasonal_vaccine  respondent_id\n",
       "0      0.103961          0.178483              0\n",
       "1      0.039293          0.015203              1\n",
       "2      0.197202          0.717399              2\n",
       "3      0.724800          0.881887              3\n",
       "4      0.269154          0.436877              4"
      ]
     },
     "execution_count": 38,
     "metadata": {},
     "output_type": "execute_result"
    }
   ],
   "source": [
    "preds['respondent_id'] = preds.index\n",
    "preds.head()"
   ]
  },
  {
   "cell_type": "code",
   "execution_count": 39,
   "id": "bfbdd7d3",
   "metadata": {},
   "outputs": [
    {
     "data": {
      "text/html": [
       "<div>\n",
       "<style scoped>\n",
       "    .dataframe tbody tr th:only-of-type {\n",
       "        vertical-align: middle;\n",
       "    }\n",
       "\n",
       "    .dataframe tbody tr th {\n",
       "        vertical-align: top;\n",
       "    }\n",
       "\n",
       "    .dataframe thead th {\n",
       "        text-align: right;\n",
       "    }\n",
       "</style>\n",
       "<table border=\"1\" class=\"dataframe\">\n",
       "  <thead>\n",
       "    <tr style=\"text-align: right;\">\n",
       "      <th></th>\n",
       "      <th>respondent_id</th>\n",
       "      <th>h1n1_vaccine</th>\n",
       "      <th>seasonal_vaccine</th>\n",
       "    </tr>\n",
       "  </thead>\n",
       "  <tbody>\n",
       "    <tr>\n",
       "      <th>0</th>\n",
       "      <td>0</td>\n",
       "      <td>0.103961</td>\n",
       "      <td>0.178483</td>\n",
       "    </tr>\n",
       "    <tr>\n",
       "      <th>1</th>\n",
       "      <td>1</td>\n",
       "      <td>0.039293</td>\n",
       "      <td>0.015203</td>\n",
       "    </tr>\n",
       "    <tr>\n",
       "      <th>2</th>\n",
       "      <td>2</td>\n",
       "      <td>0.197202</td>\n",
       "      <td>0.717399</td>\n",
       "    </tr>\n",
       "    <tr>\n",
       "      <th>3</th>\n",
       "      <td>3</td>\n",
       "      <td>0.724800</td>\n",
       "      <td>0.881887</td>\n",
       "    </tr>\n",
       "    <tr>\n",
       "      <th>4</th>\n",
       "      <td>4</td>\n",
       "      <td>0.269154</td>\n",
       "      <td>0.436877</td>\n",
       "    </tr>\n",
       "  </tbody>\n",
       "</table>\n",
       "</div>"
      ],
      "text/plain": [
       "   respondent_id  h1n1_vaccine  seasonal_vaccine\n",
       "0              0      0.103961          0.178483\n",
       "1              1      0.039293          0.015203\n",
       "2              2      0.197202          0.717399\n",
       "3              3      0.724800          0.881887\n",
       "4              4      0.269154          0.436877"
      ]
     },
     "execution_count": 39,
     "metadata": {},
     "output_type": "execute_result"
    }
   ],
   "source": [
    "preds = preds[['respondent_id', 'h1n1_vaccine', 'seasonal_vaccine']]\n",
    "preds.head()"
   ]
  },
  {
   "cell_type": "code",
   "execution_count": 40,
   "id": "31ccfa47",
   "metadata": {},
   "outputs": [
    {
     "data": {
      "text/html": [
       "<div>\n",
       "<style scoped>\n",
       "    .dataframe tbody tr th:only-of-type {\n",
       "        vertical-align: middle;\n",
       "    }\n",
       "\n",
       "    .dataframe tbody tr th {\n",
       "        vertical-align: top;\n",
       "    }\n",
       "\n",
       "    .dataframe thead th {\n",
       "        text-align: right;\n",
       "    }\n",
       "</style>\n",
       "<table border=\"1\" class=\"dataframe\">\n",
       "  <thead>\n",
       "    <tr style=\"text-align: right;\">\n",
       "      <th></th>\n",
       "      <th>respondent_id</th>\n",
       "      <th>h1n1_vaccine</th>\n",
       "      <th>seasonal_vaccine</th>\n",
       "    </tr>\n",
       "  </thead>\n",
       "  <tbody>\n",
       "    <tr>\n",
       "      <th>0</th>\n",
       "      <td>26707</td>\n",
       "      <td>0.103961</td>\n",
       "      <td>0.178483</td>\n",
       "    </tr>\n",
       "    <tr>\n",
       "      <th>1</th>\n",
       "      <td>26708</td>\n",
       "      <td>0.039293</td>\n",
       "      <td>0.015203</td>\n",
       "    </tr>\n",
       "    <tr>\n",
       "      <th>2</th>\n",
       "      <td>26709</td>\n",
       "      <td>0.197202</td>\n",
       "      <td>0.717399</td>\n",
       "    </tr>\n",
       "    <tr>\n",
       "      <th>3</th>\n",
       "      <td>26710</td>\n",
       "      <td>0.724800</td>\n",
       "      <td>0.881887</td>\n",
       "    </tr>\n",
       "    <tr>\n",
       "      <th>4</th>\n",
       "      <td>26711</td>\n",
       "      <td>0.269154</td>\n",
       "      <td>0.436877</td>\n",
       "    </tr>\n",
       "  </tbody>\n",
       "</table>\n",
       "</div>"
      ],
      "text/plain": [
       "   respondent_id  h1n1_vaccine  seasonal_vaccine\n",
       "0          26707      0.103961          0.178483\n",
       "1          26708      0.039293          0.015203\n",
       "2          26709      0.197202          0.717399\n",
       "3          26710      0.724800          0.881887\n",
       "4          26711      0.269154          0.436877"
      ]
     },
     "execution_count": 40,
     "metadata": {},
     "output_type": "execute_result"
    }
   ],
   "source": [
    "preds['respondent_id'] = preds['respondent_id']+26707\n",
    "preds.head()"
   ]
  },
  {
   "cell_type": "code",
   "execution_count": 42,
   "id": "4d8ff2cd",
   "metadata": {},
   "outputs": [],
   "source": [
    "preds.to_csv('v101.csv',index=False)"
   ]
  },
  {
   "cell_type": "code",
   "execution_count": null,
   "id": "73dcb7d6",
   "metadata": {},
   "outputs": [],
   "source": []
  },
  {
   "cell_type": "code",
   "execution_count": null,
   "id": "6779ee68",
   "metadata": {},
   "outputs": [],
   "source": []
  },
  {
   "cell_type": "code",
   "execution_count": null,
   "id": "3174f8f2",
   "metadata": {},
   "outputs": [],
   "source": []
  },
  {
   "cell_type": "code",
   "execution_count": null,
   "id": "de12727b",
   "metadata": {},
   "outputs": [],
   "source": []
  },
  {
   "cell_type": "code",
   "execution_count": null,
   "id": "633cd9d0",
   "metadata": {},
   "outputs": [],
   "source": []
  },
  {
   "cell_type": "code",
   "execution_count": null,
   "id": "0d2344b9",
   "metadata": {},
   "outputs": [],
   "source": []
  },
  {
   "cell_type": "code",
   "execution_count": null,
   "id": "cc00760b",
   "metadata": {},
   "outputs": [],
   "source": []
  },
  {
   "cell_type": "code",
   "execution_count": null,
   "id": "b251fc6b",
   "metadata": {},
   "outputs": [],
   "source": []
  },
  {
   "cell_type": "code",
   "execution_count": null,
   "id": "986470cc",
   "metadata": {},
   "outputs": [],
   "source": []
  },
  {
   "cell_type": "code",
   "execution_count": null,
   "id": "23aed20c",
   "metadata": {},
   "outputs": [],
   "source": []
  },
  {
   "cell_type": "code",
   "execution_count": null,
   "id": "ad18ba2c",
   "metadata": {},
   "outputs": [],
   "source": []
  },
  {
   "cell_type": "code",
   "execution_count": null,
   "id": "a68daaa3",
   "metadata": {},
   "outputs": [],
   "source": []
  },
  {
   "cell_type": "code",
   "execution_count": null,
   "id": "2ddd2460",
   "metadata": {},
   "outputs": [],
   "source": []
  },
  {
   "cell_type": "code",
   "execution_count": null,
   "id": "c17d26c7",
   "metadata": {},
   "outputs": [],
   "source": []
  },
  {
   "cell_type": "code",
   "execution_count": null,
   "id": "edf6f011",
   "metadata": {},
   "outputs": [],
   "source": []
  },
  {
   "cell_type": "code",
   "execution_count": null,
   "id": "9b0cf866",
   "metadata": {},
   "outputs": [],
   "source": []
  },
  {
   "cell_type": "code",
   "execution_count": null,
   "id": "731b9c2b",
   "metadata": {},
   "outputs": [],
   "source": []
  },
  {
   "cell_type": "code",
   "execution_count": null,
   "id": "8e67a38b",
   "metadata": {},
   "outputs": [],
   "source": []
  },
  {
   "cell_type": "code",
   "execution_count": null,
   "id": "c493f0f0",
   "metadata": {},
   "outputs": [],
   "source": []
  }
 ],
 "metadata": {
  "kernelspec": {
   "display_name": "Python 3 (ipykernel)",
   "language": "python",
   "name": "python3"
  },
  "language_info": {
   "codemirror_mode": {
    "name": "ipython",
    "version": 3
   },
   "file_extension": ".py",
   "mimetype": "text/x-python",
   "name": "python",
   "nbconvert_exporter": "python",
   "pygments_lexer": "ipython3",
   "version": "3.9.7"
  }
 },
 "nbformat": 4,
 "nbformat_minor": 5
}
